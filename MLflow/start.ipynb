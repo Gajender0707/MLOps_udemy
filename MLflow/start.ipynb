{
 "cells": [
  {
   "cell_type": "code",
   "execution_count": 1,
   "metadata": {},
   "outputs": [
    {
     "name": "stderr",
     "output_type": "stream",
     "text": [
      "/Users/sanju/Documents/DS/MLOps/MLOps_udemy/myenv/lib/python3.9/site-packages/urllib3/__init__.py:35: NotOpenSSLWarning: urllib3 v2 only supports OpenSSL 1.1.1+, currently the 'ssl' module is compiled with 'LibreSSL 2.8.3'. See: https://github.com/urllib3/urllib3/issues/3020\n",
      "  warnings.warn(\n"
     ]
    }
   ],
   "source": [
    "# Importaing all the important Libraary \n",
    "import mlflow"
   ]
  },
  {
   "cell_type": "code",
   "execution_count": 2,
   "metadata": {},
   "outputs": [],
   "source": [
    "#this is adding the link with server to here \n",
    "mlflow.set_tracking_uri(\"http://127.0.0.1:5000\")"
   ]
  },
  {
   "cell_type": "code",
   "execution_count": 3,
   "metadata": {},
   "outputs": [
    {
     "name": "stderr",
     "output_type": "stream",
     "text": [
      "2024/10/22 14:56:42 INFO mlflow.tracking.fluent: Experiment with name 'myconnect' does not exist. Creating a new experiment.\n",
      "2024/10/22 14:56:42 INFO mlflow.tracking._tracking_service.client: 🏃 View run kindly-robin-426 at: http://127.0.0.1:5000/#/experiments/843093979163034337/runs/46c92f1803cf49aca9ae1dada033d412.\n",
      "2024/10/22 14:56:42 INFO mlflow.tracking._tracking_service.client: 🧪 View experiment at: http://127.0.0.1:5000/#/experiments/843093979163034337.\n"
     ]
    }
   ],
   "source": [
    "## Now start a new  experiment  for \n",
    "mlflow.set_experiment(\"myconnect\")\n",
    "with mlflow.start_run():\n",
    "    mlflow.log_metric(\"checking\",1)"
   ]
  },
  {
   "cell_type": "code",
   "execution_count": null,
   "metadata": {},
   "outputs": [],
   "source": []
  }
 ],
 "metadata": {
  "kernelspec": {
   "display_name": "myenv",
   "language": "python",
   "name": "python3"
  },
  "language_info": {
   "codemirror_mode": {
    "name": "ipython",
    "version": 3
   },
   "file_extension": ".py",
   "mimetype": "text/x-python",
   "name": "python",
   "nbconvert_exporter": "python",
   "pygments_lexer": "ipython3",
   "version": "3.9.6"
  }
 },
 "nbformat": 4,
 "nbformat_minor": 2
}
